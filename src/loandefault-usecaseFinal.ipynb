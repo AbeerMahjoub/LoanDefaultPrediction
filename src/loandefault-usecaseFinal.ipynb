{
 "cells": [
  {
   "cell_type": "code",
   "execution_count": 1,
   "metadata": {
    "_cell_guid": "b1076dfc-b9ad-4769-8c92-a6c4dae69d19",
    "_uuid": "8f2839f25d086af736a60e9eeb907d3b93b6e0e5",
    "execution": {
     "iopub.execute_input": "2024-06-11T15:22:14.126051Z",
     "iopub.status.busy": "2024-06-11T15:22:14.125061Z",
     "iopub.status.idle": "2024-06-11T15:22:18.166992Z",
     "shell.execute_reply": "2024-06-11T15:22:18.165503Z",
     "shell.execute_reply.started": "2024-06-11T15:22:14.126014Z"
    }
   },
   "outputs": [],
   "source": [
    "import os\n",
    "import numpy as np \n",
    "import pandas as pd \n",
    "import matplotlib.pyplot as plt\n",
    "import seaborn as sns\n",
    "\n",
    "from sklearn.model_selection import (train_test_split,\n",
    "                                     GridSearchCV)\n",
    "from sklearn.preprocessing import (StandardScaler,\n",
    "                                   OneHotEncoder,\n",
    "                                   MinMaxScaler)\n",
    "\n",
    "from sklearn.metrics import (accuracy_score,\n",
    "                             classification_report,\n",
    "                             confusion_matrix,\n",
    "                             ConfusionMatrixDisplay,\n",
    "                             recall_score,\n",
    "                             precision_score,\n",
    "                             f1_score)\n",
    "\n",
    "from sklearn.tree import DecisionTreeClassifier\n",
    "from sklearn.ensemble import RandomForestClassifier\n",
    "from xgboost import XGBClassifier\n",
    "from sklearn.linear_model import LogisticRegression\n",
    "from sklearn.decomposition import PCA\n",
    "from imblearn.over_sampling import SMOTE\n",
    "from collections import Counter\n",
    "\n",
    "import warnings\n",
    "warnings.filterwarnings('ignore')\n"
   ]
  },
  {
   "cell_type": "markdown",
   "metadata": {},
   "source": [
    "# Configs:"
   ]
  },
  {
   "cell_type": "code",
   "execution_count": 2,
   "metadata": {
    "execution": {
     "iopub.execute_input": "2024-06-11T15:22:18.169383Z",
     "iopub.status.busy": "2024-06-11T15:22:18.168922Z",
     "iopub.status.idle": "2024-06-11T15:22:18.174896Z",
     "shell.execute_reply": "2024-06-11T15:22:18.173716Z",
     "shell.execute_reply.started": "2024-06-11T15:22:18.169354Z"
    }
   },
   "outputs": [],
   "source": [
    "PATH = '/kaggle/input/loan-defaulter'"
   ]
  },
  {
   "cell_type": "code",
   "execution_count": 3,
   "metadata": {
    "execution": {
     "iopub.execute_input": "2024-06-11T15:22:18.176884Z",
     "iopub.status.busy": "2024-06-11T15:22:18.176464Z",
     "iopub.status.idle": "2024-06-11T15:22:18.188463Z",
     "shell.execute_reply": "2024-06-11T15:22:18.187215Z",
     "shell.execute_reply.started": "2024-06-11T15:22:18.176854Z"
    }
   },
   "outputs": [],
   "source": [
    "pd.set_option('display.max_rows', 500)\n",
    "pd.set_option('display.max_columns', 500)\n",
    "pd.set_option('display.width', 1000)\n",
    "pd.set_option('display.expand_frame_repr', False)"
   ]
  },
  {
   "cell_type": "markdown",
   "metadata": {},
   "source": [
    "# Helpers:"
   ]
  },
  {
   "cell_type": "code",
   "execution_count": 4,
   "metadata": {
    "execution": {
     "iopub.execute_input": "2024-06-11T15:22:18.191527Z",
     "iopub.status.busy": "2024-06-11T15:22:18.191135Z",
     "iopub.status.idle": "2024-06-11T15:22:18.204060Z",
     "shell.execute_reply": "2024-06-11T15:22:18.202601Z",
     "shell.execute_reply.started": "2024-06-11T15:22:18.191475Z"
    }
   },
   "outputs": [],
   "source": [
    "def analyze_cat(feature, data):\n",
    "    print(f\"{feature} distribution:\\n\")\n",
    "    print(data[feature].value_counts(normalize = True))\n",
    "    # Create a figure with 2 subplots (1 row, 2 columns)\n",
    "    fig, axs = plt.subplots(2, 1, figsize=(9, 20))\n",
    "    sns.countplot(data = data, y = feature, ax= axs[0])\n",
    "    axs[0].set_title(f'{feature} Distribution')\n",
    "    axs[0].set_xlabel('Frequency')\n",
    "    sns.countplot(data = data, y = feature, hue = 'TARGET', ax= axs[1])\n",
    "    axs[1].set_title(f'{feature} / TARGET Relationship')\n",
    "    axs[1].set_xlabel('Frequency');\n",
    "    print()\n",
    "    print('According to target:\\n')\n",
    "    print(data.groupby(feature)['TARGET'].value_counts(normalize = True))\n",
    "    plt.subplots_adjust(hspace=0.5, wspace=0.5)  # Increase the spacing between subplots\n"
   ]
  },
  {
   "cell_type": "code",
   "execution_count": 5,
   "metadata": {
    "execution": {
     "iopub.execute_input": "2024-06-11T15:22:18.205961Z",
     "iopub.status.busy": "2024-06-11T15:22:18.205618Z",
     "iopub.status.idle": "2024-06-11T15:22:18.219983Z",
     "shell.execute_reply": "2024-06-11T15:22:18.218626Z",
     "shell.execute_reply.started": "2024-06-11T15:22:18.205933Z"
    }
   },
   "outputs": [],
   "source": [
    "def analyze_cont(feature, data):\n",
    "    print(f'{feature} Distribution:\\n')\n",
    "    print(data[feature].describe())\n",
    "    print('*'*5)\n",
    "    print(\"According to target:\")\n",
    "    print(data.groupby('TARGET')[feature].describe())\n",
    "    print('*'*5)\n",
    "    fig, axs = plt.subplots(3, 1, figsize=(6, 8))\n",
    "    sns.distplot(data[feature], ax = axs[0])\n",
    "    axs[0].set_title(f'Distribution of {feature}')\n",
    "    \n",
    "    sns.boxplot(data = data, x = feature, ax = axs[1])\n",
    "    axs[1].set_title(f'Distribution of {feature}')\n",
    "    \n",
    "    sns.boxplot(data = data, x= 'TARGET', y = feature, ax= axs[2])\n",
    "    axs[2].set_title(f'Distribution of {feature}/ TARGET')\n",
    "    plt.subplots_adjust(hspace=0.5, wspace=0.5);\n"
   ]
  },
  {
   "cell_type": "markdown",
   "metadata": {},
   "source": [
    "# Read Data:"
   ]
  },
  {
   "cell_type": "code",
   "execution_count": 6,
   "metadata": {
    "execution": {
     "iopub.execute_input": "2024-06-11T15:22:18.222137Z",
     "iopub.status.busy": "2024-06-11T15:22:18.221699Z",
     "iopub.status.idle": "2024-06-11T15:22:40.597243Z",
     "shell.execute_reply": "2024-06-11T15:22:40.595980Z",
     "shell.execute_reply.started": "2024-06-11T15:22:18.222106Z"
    }
   },
   "outputs": [
    {
     "name": "stdout",
     "output_type": "stream",
     "text": [
      "Current applications shape: (307511, 122)\n",
      "Previous applications shape: (1670214, 37)\n"
     ]
    }
   ],
   "source": [
    "curr_apps = pd.read_csv(os.path.join(PATH, 'application_data.csv'))\n",
    "prev_apps = pd.read_csv(os.path.join(PATH, 'previous_application.csv'))\n",
    "print(f'Current applications shape: {curr_apps.shape}')\n",
    "print(f'Previous applications shape: {prev_apps.shape}')"
   ]
  },
  {
   "cell_type": "markdown",
   "metadata": {},
   "source": [
    "# EDA:\n",
    "Considering the huge size of data and to keep the notebook as organized as possible, I separated the EDA part into another notebook attached with this. "
   ]
  },
  {
   "cell_type": "code",
   "execution_count": 7,
   "metadata": {
    "execution": {
     "iopub.execute_input": "2024-06-11T15:22:40.599319Z",
     "iopub.status.busy": "2024-06-11T15:22:40.598942Z",
     "iopub.status.idle": "2024-06-11T15:22:41.322748Z",
     "shell.execute_reply": "2024-06-11T15:22:41.321166Z",
     "shell.execute_reply.started": "2024-06-11T15:22:40.599286Z"
    }
   },
   "outputs": [],
   "source": [
    "X  = curr_apps.drop(columns= ['TARGET'])\n",
    "y = curr_apps['TARGET']\n",
    "X_train, X_test, y_train, y_test = train_test_split(X, y, test_size=0.2, random_state=42)"
   ]
  },
  {
   "cell_type": "code",
   "execution_count": 8,
   "metadata": {
    "execution": {
     "iopub.execute_input": "2024-06-11T15:22:41.324926Z",
     "iopub.status.busy": "2024-06-11T15:22:41.324541Z",
     "iopub.status.idle": "2024-06-11T15:22:41.443437Z",
     "shell.execute_reply": "2024-06-11T15:22:41.442255Z",
     "shell.execute_reply.started": "2024-06-11T15:22:41.324894Z"
    }
   },
   "outputs": [
    {
     "data": {
      "text/plain": [
       "(246008, 122)"
      ]
     },
     "execution_count": 8,
     "metadata": {},
     "output_type": "execute_result"
    }
   ],
   "source": [
    "eda_df = pd.concat([X_train, y_train], axis = 1)\n",
    "eda_df.shape"
   ]
  },
  {
   "cell_type": "markdown",
   "metadata": {},
   "source": [
    "# Data Processing:\n",
    "After EDA, we don't find much information on the previous applications data, so we decided to drop it to simplify the analysis.\n",
    "We noticed some issues in the data that affect the data quality so, we will fix them.\n",
    "We also noticed some features have no contribution to the target value, so we will drop them to avoid adding noise.\n",
    "\n",
    "* Drop insignificant Columns\n",
    "* Delete Columns with more than 40 perecnt of missing values.\n",
    "* Fix data quality issues, like negative values in some columns (DAYS_BIRTH,.. ).\n",
    "* Features Extraction.\n",
    "* Features transformation.\n",
    "\n",
    "\n",
    "\n"
   ]
  },
  {
   "cell_type": "code",
   "execution_count": 9,
   "metadata": {
    "execution": {
     "iopub.execute_input": "2024-06-11T15:22:41.445336Z",
     "iopub.status.busy": "2024-06-11T15:22:41.444905Z",
     "iopub.status.idle": "2024-06-11T15:22:41.451726Z",
     "shell.execute_reply": "2024-06-11T15:22:41.450423Z",
     "shell.execute_reply.started": "2024-06-11T15:22:41.445306Z"
    }
   },
   "outputs": [],
   "source": [
    "# So. this is the list of features that have a potential predictive power, we will use them in our model.\n",
    "# keep potentially important features \n",
    "potential_features = [\n",
    "    'CODE_GENDER', \n",
    "    'NAME_EDUCATION_TYPE', \n",
    "    'OCCUPATION_TYPE', \n",
    "    'ORGANIZATION_TYPE', \n",
    "    'NAME_CONTRACT_TYPE',\n",
    "    'NAME_INCOME_TYPE',\n",
    "    'FLAG_EMP_PHONE',\n",
    "    'REGION_RATING_CLIENT',\n",
    "    'REGION_RATING_CLIENT_W_CITY', \n",
    "    'REG_CITY_NOT_LIVE_CITY', \n",
    "    'REG_CITY_NOT_WORK_CITY', \n",
    "    'DAYS_BIRTH', \n",
    "    'DAYS_ID_PUBLISH',\n",
    "    'AMT_ANNUITY', \n",
    "    'EXT_SOURCE_3', \n",
    "    'DAYS_LAST_PHONE_CHANGE', \n",
    "    'EXT_SOURCE_2', \n",
    "    'DAYS_EMPLOYED', \n",
    "    'DAYS_REGISTRATION', \n",
    "]"
   ]
  },
  {
   "cell_type": "code",
   "execution_count": 10,
   "metadata": {
    "execution": {
     "iopub.execute_input": "2024-06-11T15:22:41.456348Z",
     "iopub.status.busy": "2024-06-11T15:22:41.455986Z",
     "iopub.status.idle": "2024-06-11T15:22:41.634220Z",
     "shell.execute_reply": "2024-06-11T15:22:41.632971Z",
     "shell.execute_reply.started": "2024-06-11T15:22:41.456319Z"
    }
   },
   "outputs": [],
   "source": [
    "df = eda_df.copy()"
   ]
  },
  {
   "cell_type": "code",
   "execution_count": 11,
   "metadata": {
    "execution": {
     "iopub.execute_input": "2024-06-11T15:22:41.637413Z",
     "iopub.status.busy": "2024-06-11T15:22:41.636490Z",
     "iopub.status.idle": "2024-06-11T15:22:41.659320Z",
     "shell.execute_reply": "2024-06-11T15:22:41.657970Z",
     "shell.execute_reply.started": "2024-06-11T15:22:41.637369Z"
    }
   },
   "outputs": [],
   "source": [
    "def process(data, transform = True):\n",
    "    \"\"\"\n",
    "    data is the features X \n",
    "    \"\"\"\n",
    "    # keep only selected features\n",
    "    data = data[potential_features]\n",
    "    \n",
    "    # drop cols with > 40% nulls\n",
    "    null_dist = data.isna().mean() *100\n",
    "    drop_cols = null_dist[null_dist > 40].index.tolist()\n",
    "    data = data.drop(columns=drop_cols)\n",
    "    \n",
    "    # Fix Negative Values:\n",
    "    cols_w_neg = ['DAYS_BIRTH', 'DAYS_EMPLOYED', 'DAYS_REGISTRATION', 'DAYS_ID_PUBLISH', 'DAYS_LAST_PHONE_CHANGE' ]\n",
    "    for col in cols_w_neg:\n",
    "        data[col] = abs(data[col])\n",
    "        \n",
    "    # Impute Null Values\n",
    "    ## In categorical feature : Occupation type, we will fill with 'missing' \n",
    "    data['OCCUPATION_TYPE'] = data['OCCUPATION_TYPE'].fillna('missing')\n",
    "    ## For Numerical features EXT_SOURCE_{2,3} and AMT_ANNUITY, we will use the median as the data is skewed.\n",
    "    data['EXT_SOURCE_2'] = data['EXT_SOURCE_2'].fillna(data['EXT_SOURCE_2'].median())\n",
    "    data['EXT_SOURCE_3'] = data['EXT_SOURCE_3'].fillna(data['EXT_SOURCE_3'].median())\n",
    "    data['AMT_ANNUITY'] = data['AMT_ANNUITY'].fillna(data['AMT_ANNUITY'].median())\n",
    "    data['DAYS_LAST_PHONE_CHANGE'] = data['DAYS_LAST_PHONE_CHANGE'].fillna(data['DAYS_LAST_PHONE_CHANGE'].median())\n",
    "\n",
    "    \n",
    "\n",
    "        \n",
    "    # Feature Extractions\n",
    "    ## We convert days into years to avoid huge variation in the range of values.\n",
    "    data['applicant_age'] = np.ceil(data.DAYS_BIRTH /365)\n",
    "    data['employment_yrs'] = np.ceil(data.DAYS_EMPLOYED /365)\n",
    "    data['registeration']=  np.ceil(data.DAYS_REGISTRATION /365)\n",
    "    data['puplish'] = np.ceil(data.DAYS_ID_PUBLISH / 365)\n",
    "    data['phone_change'] = np.ceil(data.DAYS_LAST_PHONE_CHANGE /365)\n",
    "    ## Drop the original Ones.\n",
    "    data = data.drop(columns = cols_w_neg)\n",
    "    \n",
    "    # We apply some transformation for data like encoding and standardization incase the model expect the data transformed in some format.\n",
    "    ## categorical\n",
    "    cat_features =  ['CODE_GENDER', 'NAME_EDUCATION_TYPE', \n",
    "           'OCCUPATION_TYPE','ORGANIZATION_TYPE', 'NAME_CONTRACT_TYPE', 'NAME_INCOME_TYPE' ]\n",
    "    num_features = ['AMT_ANNUITY', 'EXT_SOURCE_2','EXT_SOURCE_3', 'applicant_age', 'employment_yrs', 'registeration', 'puplish', 'phone_change']\n",
    "\n",
    "    encoder = OneHotEncoder(sparse=False, drop='first')\n",
    "    cat_encoded = encoder.fit_transform(data[cat_features])\n",
    "    df_encoded = pd.DataFrame(cat_encoded, columns=encoder.get_feature_names_out(cat_features))\n",
    "    if transform: # Tree models can handle skewed features    \n",
    "        ## Numerical\n",
    "        # Or for normalization\n",
    "        scaler = MinMaxScaler()\n",
    "        df_scaled = pd.DataFrame(scaler.fit_transform(data[num_features]), columns = num_features)\n",
    "        \n",
    "        data = pd.concat([df_encoded, df_scaled], axis = 1)\n",
    "        return data\n",
    "    data = pd.concat([df_encoded, data[num_features]])\n",
    "    return data\n",
    "\n",
    "\n",
    "    \n",
    "    \n",
    "    \n"
   ]
  },
  {
   "cell_type": "markdown",
   "metadata": {},
   "source": [
    "# Modeling:"
   ]
  },
  {
   "cell_type": "markdown",
   "metadata": {},
   "source": [
    "Before Modeling we can decrease the dimensionality of our data, for better training. Two methods can be used to achieve this.\n",
    "* PCA.\n",
    "* Feature Selection using RF."
   ]
  },
  {
   "cell_type": "code",
   "execution_count": 12,
   "metadata": {
    "execution": {
     "iopub.execute_input": "2024-06-11T15:22:41.661305Z",
     "iopub.status.busy": "2024-06-11T15:22:41.660876Z",
     "iopub.status.idle": "2024-06-11T15:22:46.144827Z",
     "shell.execute_reply": "2024-06-11T15:22:46.143624Z",
     "shell.execute_reply.started": "2024-06-11T15:22:41.661271Z"
    }
   },
   "outputs": [],
   "source": [
    "# for base model\n",
    "X_train_trans = process(X_train, True)\n",
    "X_test_trans = process(X_test, True)\n",
    "\n",
    "# for tree models:\n",
    "X_train_no_trans = process(X_train, True)\n",
    "X_test_no_trans = process(X_test, True)"
   ]
  },
  {
   "cell_type": "code",
   "execution_count": 13,
   "metadata": {
    "execution": {
     "iopub.execute_input": "2024-06-11T15:22:46.146537Z",
     "iopub.status.busy": "2024-06-11T15:22:46.146178Z",
     "iopub.status.idle": "2024-06-11T15:22:46.154380Z",
     "shell.execute_reply": "2024-06-11T15:22:46.153092Z",
     "shell.execute_reply.started": "2024-06-11T15:22:46.146493Z"
    }
   },
   "outputs": [
    {
     "data": {
      "text/plain": [
       "((246008, 97), (61503, 97))"
      ]
     },
     "execution_count": 13,
     "metadata": {},
     "output_type": "execute_result"
    }
   ],
   "source": [
    "X_train_no_trans.shape, X_test_no_trans.shape"
   ]
  },
  {
   "cell_type": "markdown",
   "metadata": {},
   "source": [
    "**1. PCA:**"
   ]
  },
  {
   "cell_type": "code",
   "execution_count": 14,
   "metadata": {
    "execution": {
     "iopub.execute_input": "2024-06-11T15:22:46.156277Z",
     "iopub.status.busy": "2024-06-11T15:22:46.155926Z",
     "iopub.status.idle": "2024-06-11T15:22:48.410301Z",
     "shell.execute_reply": "2024-06-11T15:22:48.408422Z",
     "shell.execute_reply.started": "2024-06-11T15:22:46.156249Z"
    }
   },
   "outputs": [],
   "source": [
    "pca = PCA(n_components=10)  # Reduce to 2 principal components for example\n",
    "X_train_pca = pca.fit_transform(X_train_trans)\n",
    "X_test_pca = pca.transform(X_test_trans)"
   ]
  },
  {
   "cell_type": "markdown",
   "metadata": {},
   "source": [
    "**2. Random Forest Feature Selection:**"
   ]
  },
  {
   "cell_type": "code",
   "execution_count": null,
   "metadata": {
    "execution": {
     "iopub.execute_input": "2024-06-11T15:22:48.413636Z",
     "iopub.status.busy": "2024-06-11T15:22:48.412677Z"
    }
   },
   "outputs": [],
   "source": [
    "rf_selection = RandomForestClassifier(n_estimators=50,\n",
    "                               criterion=\"gini\",\n",
    "                               max_depth=5,\n",
    "                               min_samples_split=10,\n",
    "                               bootstrap=True,\n",
    "                               max_samples=0.8,\n",
    "                               oob_score=True,\n",
    "                               class_weight = \"balanced\",\n",
    "                               n_jobs=-1,\n",
    "                               random_state=0)\n",
    "rf_selection.fit(X_train_no_trans, y_train)\n",
    "importance = pd.DataFrame(rf_selection.feature_importances_, index = X_train_no_trans.columns, columns = [\"importance\"]).sort_values(\"importance\", ascending  = False)\n",
    "importance.plot(kind='barh', title=\"Feature Importance\", figsize = (5, 20))\n",
    "plt.show()"
   ]
  },
  {
   "cell_type": "code",
   "execution_count": null,
   "metadata": {
    "execution": {
     "iopub.execute_input": "2024-06-11T15:22:56.853584Z",
     "iopub.status.idle": "2024-06-11T15:22:56.879770Z"
    }
   },
   "outputs": [
    {
     "data": {
      "text/html": [
       "<div>\n",
       "<style scoped>\n",
       "    .dataframe tbody tr th:only-of-type {\n",
       "        vertical-align: middle;\n",
       "    }\n",
       "\n",
       "    .dataframe tbody tr th {\n",
       "        vertical-align: top;\n",
       "    }\n",
       "\n",
       "    .dataframe thead th {\n",
       "        text-align: right;\n",
       "    }\n",
       "</style>\n",
       "<table border=\"1\" class=\"dataframe\">\n",
       "  <thead>\n",
       "    <tr style=\"text-align: right;\">\n",
       "      <th></th>\n",
       "      <th>importance</th>\n",
       "    </tr>\n",
       "  </thead>\n",
       "  <tbody>\n",
       "    <tr>\n",
       "      <th>EXT_SOURCE_2</th>\n",
       "      <td>0.315255</td>\n",
       "    </tr>\n",
       "    <tr>\n",
       "      <th>EXT_SOURCE_3</th>\n",
       "      <td>0.237471</td>\n",
       "    </tr>\n",
       "    <tr>\n",
       "      <th>employment_yrs</th>\n",
       "      <td>0.085698</td>\n",
       "    </tr>\n",
       "    <tr>\n",
       "      <th>applicant_age</th>\n",
       "      <td>0.048728</td>\n",
       "    </tr>\n",
       "    <tr>\n",
       "      <th>NAME_EDUCATION_TYPE_Secondary / secondary special</th>\n",
       "      <td>0.041917</td>\n",
       "    </tr>\n",
       "    <tr>\n",
       "      <th>CODE_GENDER_M</th>\n",
       "      <td>0.031493</td>\n",
       "    </tr>\n",
       "    <tr>\n",
       "      <th>NAME_INCOME_TYPE_Working</th>\n",
       "      <td>0.028073</td>\n",
       "    </tr>\n",
       "    <tr>\n",
       "      <th>NAME_EDUCATION_TYPE_Higher education</th>\n",
       "      <td>0.027239</td>\n",
       "    </tr>\n",
       "    <tr>\n",
       "      <th>phone_change</th>\n",
       "      <td>0.027138</td>\n",
       "    </tr>\n",
       "    <tr>\n",
       "      <th>puplish</th>\n",
       "      <td>0.025912</td>\n",
       "    </tr>\n",
       "    <tr>\n",
       "      <th>NAME_INCOME_TYPE_Pensioner</th>\n",
       "      <td>0.023718</td>\n",
       "    </tr>\n",
       "    <tr>\n",
       "      <th>registeration</th>\n",
       "      <td>0.016685</td>\n",
       "    </tr>\n",
       "    <tr>\n",
       "      <th>AMT_ANNUITY</th>\n",
       "      <td>0.014197</td>\n",
       "    </tr>\n",
       "    <tr>\n",
       "      <th>ORGANIZATION_TYPE_XNA</th>\n",
       "      <td>0.012341</td>\n",
       "    </tr>\n",
       "    <tr>\n",
       "      <th>NAME_CONTRACT_TYPE_Revolving loans</th>\n",
       "      <td>0.011961</td>\n",
       "    </tr>\n",
       "    <tr>\n",
       "      <th>OCCUPATION_TYPE_Laborers</th>\n",
       "      <td>0.011423</td>\n",
       "    </tr>\n",
       "    <tr>\n",
       "      <th>NAME_INCOME_TYPE_Commercial associate</th>\n",
       "      <td>0.004430</td>\n",
       "    </tr>\n",
       "    <tr>\n",
       "      <th>OCCUPATION_TYPE_missing</th>\n",
       "      <td>0.004140</td>\n",
       "    </tr>\n",
       "    <tr>\n",
       "      <th>ORGANIZATION_TYPE_Business Entity Type 3</th>\n",
       "      <td>0.003504</td>\n",
       "    </tr>\n",
       "    <tr>\n",
       "      <th>ORGANIZATION_TYPE_Self-employed</th>\n",
       "      <td>0.003499</td>\n",
       "    </tr>\n",
       "    <tr>\n",
       "      <th>OCCUPATION_TYPE_Sales staff</th>\n",
       "      <td>0.003032</td>\n",
       "    </tr>\n",
       "    <tr>\n",
       "      <th>OCCUPATION_TYPE_Drivers</th>\n",
       "      <td>0.002220</td>\n",
       "    </tr>\n",
       "    <tr>\n",
       "      <th>OCCUPATION_TYPE_Core staff</th>\n",
       "      <td>0.002058</td>\n",
       "    </tr>\n",
       "    <tr>\n",
       "      <th>OCCUPATION_TYPE_Managers</th>\n",
       "      <td>0.001643</td>\n",
       "    </tr>\n",
       "    <tr>\n",
       "      <th>OCCUPATION_TYPE_Low-skill Laborers</th>\n",
       "      <td>0.001439</td>\n",
       "    </tr>\n",
       "    <tr>\n",
       "      <th>NAME_INCOME_TYPE_State servant</th>\n",
       "      <td>0.001382</td>\n",
       "    </tr>\n",
       "    <tr>\n",
       "      <th>ORGANIZATION_TYPE_Transport: type 3</th>\n",
       "      <td>0.001133</td>\n",
       "    </tr>\n",
       "    <tr>\n",
       "      <th>ORGANIZATION_TYPE_Construction</th>\n",
       "      <td>0.001123</td>\n",
       "    </tr>\n",
       "    <tr>\n",
       "      <th>ORGANIZATION_TYPE_Medicine</th>\n",
       "      <td>0.000995</td>\n",
       "    </tr>\n",
       "    <tr>\n",
       "      <th>OCCUPATION_TYPE_High skill tech staff</th>\n",
       "      <td>0.000980</td>\n",
       "    </tr>\n",
       "    <tr>\n",
       "      <th>ORGANIZATION_TYPE_School</th>\n",
       "      <td>0.000881</td>\n",
       "    </tr>\n",
       "    <tr>\n",
       "      <th>OCCUPATION_TYPE_Cleaning staff</th>\n",
       "      <td>0.000764</td>\n",
       "    </tr>\n",
       "    <tr>\n",
       "      <th>NAME_EDUCATION_TYPE_Lower secondary</th>\n",
       "      <td>0.000656</td>\n",
       "    </tr>\n",
       "    <tr>\n",
       "      <th>ORGANIZATION_TYPE_Military</th>\n",
       "      <td>0.000531</td>\n",
       "    </tr>\n",
       "    <tr>\n",
       "      <th>OCCUPATION_TYPE_Security staff</th>\n",
       "      <td>0.000360</td>\n",
       "    </tr>\n",
       "    <tr>\n",
       "      <th>OCCUPATION_TYPE_Private service staff</th>\n",
       "      <td>0.000349</td>\n",
       "    </tr>\n",
       "    <tr>\n",
       "      <th>ORGANIZATION_TYPE_Government</th>\n",
       "      <td>0.000327</td>\n",
       "    </tr>\n",
       "    <tr>\n",
       "      <th>OCCUPATION_TYPE_Cooking staff</th>\n",
       "      <td>0.000316</td>\n",
       "    </tr>\n",
       "    <tr>\n",
       "      <th>ORGANIZATION_TYPE_Police</th>\n",
       "      <td>0.000314</td>\n",
       "    </tr>\n",
       "    <tr>\n",
       "      <th>ORGANIZATION_TYPE_Business Entity Type 2</th>\n",
       "      <td>0.000298</td>\n",
       "    </tr>\n",
       "    <tr>\n",
       "      <th>ORGANIZATION_TYPE_Industry: type 9</th>\n",
       "      <td>0.000290</td>\n",
       "    </tr>\n",
       "    <tr>\n",
       "      <th>NAME_EDUCATION_TYPE_Incomplete higher</th>\n",
       "      <td>0.000290</td>\n",
       "    </tr>\n",
       "    <tr>\n",
       "      <th>ORGANIZATION_TYPE_Kindergarten</th>\n",
       "      <td>0.000262</td>\n",
       "    </tr>\n",
       "    <tr>\n",
       "      <th>ORGANIZATION_TYPE_Bank</th>\n",
       "      <td>0.000230</td>\n",
       "    </tr>\n",
       "    <tr>\n",
       "      <th>ORGANIZATION_TYPE_Housing</th>\n",
       "      <td>0.000214</td>\n",
       "    </tr>\n",
       "    <tr>\n",
       "      <th>ORGANIZATION_TYPE_Trade: type 3</th>\n",
       "      <td>0.000212</td>\n",
       "    </tr>\n",
       "    <tr>\n",
       "      <th>ORGANIZATION_TYPE_Other</th>\n",
       "      <td>0.000197</td>\n",
       "    </tr>\n",
       "    <tr>\n",
       "      <th>ORGANIZATION_TYPE_Industry: type 11</th>\n",
       "      <td>0.000136</td>\n",
       "    </tr>\n",
       "    <tr>\n",
       "      <th>ORGANIZATION_TYPE_Industry: type 3</th>\n",
       "      <td>0.000131</td>\n",
       "    </tr>\n",
       "    <tr>\n",
       "      <th>ORGANIZATION_TYPE_Industry: type 1</th>\n",
       "      <td>0.000129</td>\n",
       "    </tr>\n",
       "    <tr>\n",
       "      <th>ORGANIZATION_TYPE_Trade: type 2</th>\n",
       "      <td>0.000125</td>\n",
       "    </tr>\n",
       "    <tr>\n",
       "      <th>ORGANIZATION_TYPE_Security Ministries</th>\n",
       "      <td>0.000124</td>\n",
       "    </tr>\n",
       "    <tr>\n",
       "      <th>OCCUPATION_TYPE_Medicine staff</th>\n",
       "      <td>0.000118</td>\n",
       "    </tr>\n",
       "    <tr>\n",
       "      <th>ORGANIZATION_TYPE_Trade: type 6</th>\n",
       "      <td>0.000117</td>\n",
       "    </tr>\n",
       "    <tr>\n",
       "      <th>ORGANIZATION_TYPE_University</th>\n",
       "      <td>0.000114</td>\n",
       "    </tr>\n",
       "    <tr>\n",
       "      <th>ORGANIZATION_TYPE_Hotel</th>\n",
       "      <td>0.000111</td>\n",
       "    </tr>\n",
       "    <tr>\n",
       "      <th>ORGANIZATION_TYPE_Transport: type 4</th>\n",
       "      <td>0.000109</td>\n",
       "    </tr>\n",
       "    <tr>\n",
       "      <th>ORGANIZATION_TYPE_Electricity</th>\n",
       "      <td>0.000105</td>\n",
       "    </tr>\n",
       "    <tr>\n",
       "      <th>ORGANIZATION_TYPE_Restaurant</th>\n",
       "      <td>0.000100</td>\n",
       "    </tr>\n",
       "    <tr>\n",
       "      <th>ORGANIZATION_TYPE_Transport: type 2</th>\n",
       "      <td>0.000092</td>\n",
       "    </tr>\n",
       "    <tr>\n",
       "      <th>ORGANIZATION_TYPE_Agriculture</th>\n",
       "      <td>0.000090</td>\n",
       "    </tr>\n",
       "    <tr>\n",
       "      <th>ORGANIZATION_TYPE_Trade: type 7</th>\n",
       "      <td>0.000090</td>\n",
       "    </tr>\n",
       "    <tr>\n",
       "      <th>OCCUPATION_TYPE_IT staff</th>\n",
       "      <td>0.000083</td>\n",
       "    </tr>\n",
       "    <tr>\n",
       "      <th>ORGANIZATION_TYPE_Business Entity Type 1</th>\n",
       "      <td>0.000075</td>\n",
       "    </tr>\n",
       "    <tr>\n",
       "      <th>ORGANIZATION_TYPE_Security</th>\n",
       "      <td>0.000074</td>\n",
       "    </tr>\n",
       "    <tr>\n",
       "      <th>ORGANIZATION_TYPE_Transport: type 1</th>\n",
       "      <td>0.000071</td>\n",
       "    </tr>\n",
       "    <tr>\n",
       "      <th>ORGANIZATION_TYPE_Emergency</th>\n",
       "      <td>0.000070</td>\n",
       "    </tr>\n",
       "    <tr>\n",
       "      <th>OCCUPATION_TYPE_Waiters/barmen staff</th>\n",
       "      <td>0.000058</td>\n",
       "    </tr>\n",
       "    <tr>\n",
       "      <th>ORGANIZATION_TYPE_Industry: type 4</th>\n",
       "      <td>0.000056</td>\n",
       "    </tr>\n",
       "    <tr>\n",
       "      <th>ORGANIZATION_TYPE_Industry: type 10</th>\n",
       "      <td>0.000050</td>\n",
       "    </tr>\n",
       "    <tr>\n",
       "      <th>ORGANIZATION_TYPE_Postal</th>\n",
       "      <td>0.000048</td>\n",
       "    </tr>\n",
       "    <tr>\n",
       "      <th>ORGANIZATION_TYPE_Realtor</th>\n",
       "      <td>0.000046</td>\n",
       "    </tr>\n",
       "    <tr>\n",
       "      <th>OCCUPATION_TYPE_Realty agents</th>\n",
       "      <td>0.000045</td>\n",
       "    </tr>\n",
       "    <tr>\n",
       "      <th>ORGANIZATION_TYPE_Legal Services</th>\n",
       "      <td>0.000045</td>\n",
       "    </tr>\n",
       "    <tr>\n",
       "      <th>ORGANIZATION_TYPE_Industry: type 5</th>\n",
       "      <td>0.000041</td>\n",
       "    </tr>\n",
       "    <tr>\n",
       "      <th>OCCUPATION_TYPE_Secretaries</th>\n",
       "      <td>0.000040</td>\n",
       "    </tr>\n",
       "    <tr>\n",
       "      <th>ORGANIZATION_TYPE_Industry: type 2</th>\n",
       "      <td>0.000038</td>\n",
       "    </tr>\n",
       "    <tr>\n",
       "      <th>ORGANIZATION_TYPE_Services</th>\n",
       "      <td>0.000035</td>\n",
       "    </tr>\n",
       "    <tr>\n",
       "      <th>ORGANIZATION_TYPE_Industry: type 7</th>\n",
       "      <td>0.000035</td>\n",
       "    </tr>\n",
       "    <tr>\n",
       "      <th>ORGANIZATION_TYPE_Culture</th>\n",
       "      <td>0.000034</td>\n",
       "    </tr>\n",
       "    <tr>\n",
       "      <th>OCCUPATION_TYPE_HR staff</th>\n",
       "      <td>0.000027</td>\n",
       "    </tr>\n",
       "    <tr>\n",
       "      <th>ORGANIZATION_TYPE_Mobile</th>\n",
       "      <td>0.000008</td>\n",
       "    </tr>\n",
       "    <tr>\n",
       "      <th>ORGANIZATION_TYPE_Industry: type 8</th>\n",
       "      <td>0.000006</td>\n",
       "    </tr>\n",
       "    <tr>\n",
       "      <th>ORGANIZATION_TYPE_Insurance</th>\n",
       "      <td>0.000005</td>\n",
       "    </tr>\n",
       "    <tr>\n",
       "      <th>ORGANIZATION_TYPE_Trade: type 5</th>\n",
       "      <td>0.000005</td>\n",
       "    </tr>\n",
       "    <tr>\n",
       "      <th>ORGANIZATION_TYPE_Industry: type 12</th>\n",
       "      <td>0.000002</td>\n",
       "    </tr>\n",
       "    <tr>\n",
       "      <th>NAME_INCOME_TYPE_Maternity leave</th>\n",
       "      <td>0.000000</td>\n",
       "    </tr>\n",
       "    <tr>\n",
       "      <th>ORGANIZATION_TYPE_Trade: type 4</th>\n",
       "      <td>0.000000</td>\n",
       "    </tr>\n",
       "    <tr>\n",
       "      <th>NAME_INCOME_TYPE_Student</th>\n",
       "      <td>0.000000</td>\n",
       "    </tr>\n",
       "    <tr>\n",
       "      <th>NAME_INCOME_TYPE_Unemployed</th>\n",
       "      <td>0.000000</td>\n",
       "    </tr>\n",
       "    <tr>\n",
       "      <th>ORGANIZATION_TYPE_Trade: type 1</th>\n",
       "      <td>0.000000</td>\n",
       "    </tr>\n",
       "    <tr>\n",
       "      <th>ORGANIZATION_TYPE_Telecom</th>\n",
       "      <td>0.000000</td>\n",
       "    </tr>\n",
       "    <tr>\n",
       "      <th>ORGANIZATION_TYPE_Religion</th>\n",
       "      <td>0.000000</td>\n",
       "    </tr>\n",
       "    <tr>\n",
       "      <th>CODE_GENDER_XNA</th>\n",
       "      <td>0.000000</td>\n",
       "    </tr>\n",
       "    <tr>\n",
       "      <th>ORGANIZATION_TYPE_Industry: type 6</th>\n",
       "      <td>0.000000</td>\n",
       "    </tr>\n",
       "    <tr>\n",
       "      <th>ORGANIZATION_TYPE_Industry: type 13</th>\n",
       "      <td>0.000000</td>\n",
       "    </tr>\n",
       "    <tr>\n",
       "      <th>ORGANIZATION_TYPE_Cleaning</th>\n",
       "      <td>0.000000</td>\n",
       "    </tr>\n",
       "  </tbody>\n",
       "</table>\n",
       "</div>"
      ],
      "text/plain": [
       "                                                   importance\n",
       "EXT_SOURCE_2                                         0.315255\n",
       "EXT_SOURCE_3                                         0.237471\n",
       "employment_yrs                                       0.085698\n",
       "applicant_age                                        0.048728\n",
       "NAME_EDUCATION_TYPE_Secondary / secondary special    0.041917\n",
       "CODE_GENDER_M                                        0.031493\n",
       "NAME_INCOME_TYPE_Working                             0.028073\n",
       "NAME_EDUCATION_TYPE_Higher education                 0.027239\n",
       "phone_change                                         0.027138\n",
       "puplish                                              0.025912\n",
       "NAME_INCOME_TYPE_Pensioner                           0.023718\n",
       "registeration                                        0.016685\n",
       "AMT_ANNUITY                                          0.014197\n",
       "ORGANIZATION_TYPE_XNA                                0.012341\n",
       "NAME_CONTRACT_TYPE_Revolving loans                   0.011961\n",
       "OCCUPATION_TYPE_Laborers                             0.011423\n",
       "NAME_INCOME_TYPE_Commercial associate                0.004430\n",
       "OCCUPATION_TYPE_missing                              0.004140\n",
       "ORGANIZATION_TYPE_Business Entity Type 3             0.003504\n",
       "ORGANIZATION_TYPE_Self-employed                      0.003499\n",
       "OCCUPATION_TYPE_Sales staff                          0.003032\n",
       "OCCUPATION_TYPE_Drivers                              0.002220\n",
       "OCCUPATION_TYPE_Core staff                           0.002058\n",
       "OCCUPATION_TYPE_Managers                             0.001643\n",
       "OCCUPATION_TYPE_Low-skill Laborers                   0.001439\n",
       "NAME_INCOME_TYPE_State servant                       0.001382\n",
       "ORGANIZATION_TYPE_Transport: type 3                  0.001133\n",
       "ORGANIZATION_TYPE_Construction                       0.001123\n",
       "ORGANIZATION_TYPE_Medicine                           0.000995\n",
       "OCCUPATION_TYPE_High skill tech staff                0.000980\n",
       "ORGANIZATION_TYPE_School                             0.000881\n",
       "OCCUPATION_TYPE_Cleaning staff                       0.000764\n",
       "NAME_EDUCATION_TYPE_Lower secondary                  0.000656\n",
       "ORGANIZATION_TYPE_Military                           0.000531\n",
       "OCCUPATION_TYPE_Security staff                       0.000360\n",
       "OCCUPATION_TYPE_Private service staff                0.000349\n",
       "ORGANIZATION_TYPE_Government                         0.000327\n",
       "OCCUPATION_TYPE_Cooking staff                        0.000316\n",
       "ORGANIZATION_TYPE_Police                             0.000314\n",
       "ORGANIZATION_TYPE_Business Entity Type 2             0.000298\n",
       "ORGANIZATION_TYPE_Industry: type 9                   0.000290\n",
       "NAME_EDUCATION_TYPE_Incomplete higher                0.000290\n",
       "ORGANIZATION_TYPE_Kindergarten                       0.000262\n",
       "ORGANIZATION_TYPE_Bank                               0.000230\n",
       "ORGANIZATION_TYPE_Housing                            0.000214\n",
       "ORGANIZATION_TYPE_Trade: type 3                      0.000212\n",
       "ORGANIZATION_TYPE_Other                              0.000197\n",
       "ORGANIZATION_TYPE_Industry: type 11                  0.000136\n",
       "ORGANIZATION_TYPE_Industry: type 3                   0.000131\n",
       "ORGANIZATION_TYPE_Industry: type 1                   0.000129\n",
       "ORGANIZATION_TYPE_Trade: type 2                      0.000125\n",
       "ORGANIZATION_TYPE_Security Ministries                0.000124\n",
       "OCCUPATION_TYPE_Medicine staff                       0.000118\n",
       "ORGANIZATION_TYPE_Trade: type 6                      0.000117\n",
       "ORGANIZATION_TYPE_University                         0.000114\n",
       "ORGANIZATION_TYPE_Hotel                              0.000111\n",
       "ORGANIZATION_TYPE_Transport: type 4                  0.000109\n",
       "ORGANIZATION_TYPE_Electricity                        0.000105\n",
       "ORGANIZATION_TYPE_Restaurant                         0.000100\n",
       "ORGANIZATION_TYPE_Transport: type 2                  0.000092\n",
       "ORGANIZATION_TYPE_Agriculture                        0.000090\n",
       "ORGANIZATION_TYPE_Trade: type 7                      0.000090\n",
       "OCCUPATION_TYPE_IT staff                             0.000083\n",
       "ORGANIZATION_TYPE_Business Entity Type 1             0.000075\n",
       "ORGANIZATION_TYPE_Security                           0.000074\n",
       "ORGANIZATION_TYPE_Transport: type 1                  0.000071\n",
       "ORGANIZATION_TYPE_Emergency                          0.000070\n",
       "OCCUPATION_TYPE_Waiters/barmen staff                 0.000058\n",
       "ORGANIZATION_TYPE_Industry: type 4                   0.000056\n",
       "ORGANIZATION_TYPE_Industry: type 10                  0.000050\n",
       "ORGANIZATION_TYPE_Postal                             0.000048\n",
       "ORGANIZATION_TYPE_Realtor                            0.000046\n",
       "OCCUPATION_TYPE_Realty agents                        0.000045\n",
       "ORGANIZATION_TYPE_Legal Services                     0.000045\n",
       "ORGANIZATION_TYPE_Industry: type 5                   0.000041\n",
       "OCCUPATION_TYPE_Secretaries                          0.000040\n",
       "ORGANIZATION_TYPE_Industry: type 2                   0.000038\n",
       "ORGANIZATION_TYPE_Services                           0.000035\n",
       "ORGANIZATION_TYPE_Industry: type 7                   0.000035\n",
       "ORGANIZATION_TYPE_Culture                            0.000034\n",
       "OCCUPATION_TYPE_HR staff                             0.000027\n",
       "ORGANIZATION_TYPE_Mobile                             0.000008\n",
       "ORGANIZATION_TYPE_Industry: type 8                   0.000006\n",
       "ORGANIZATION_TYPE_Insurance                          0.000005\n",
       "ORGANIZATION_TYPE_Trade: type 5                      0.000005\n",
       "ORGANIZATION_TYPE_Industry: type 12                  0.000002\n",
       "NAME_INCOME_TYPE_Maternity leave                     0.000000\n",
       "ORGANIZATION_TYPE_Trade: type 4                      0.000000\n",
       "NAME_INCOME_TYPE_Student                             0.000000\n",
       "NAME_INCOME_TYPE_Unemployed                          0.000000\n",
       "ORGANIZATION_TYPE_Trade: type 1                      0.000000\n",
       "ORGANIZATION_TYPE_Telecom                            0.000000\n",
       "ORGANIZATION_TYPE_Religion                           0.000000\n",
       "CODE_GENDER_XNA                                      0.000000\n",
       "ORGANIZATION_TYPE_Industry: type 6                   0.000000\n",
       "ORGANIZATION_TYPE_Industry: type 13                  0.000000\n",
       "ORGANIZATION_TYPE_Cleaning                           0.000000"
      ]
     },
     "execution_count": 16,
     "metadata": {},
     "output_type": "execute_result"
    }
   ],
   "source": [
    "importance.sort_values(by = 'importance', ascending = False)"
   ]
  },
  {
   "cell_type": "code",
   "execution_count": null,
   "metadata": {
    "execution": {
     "iopub.execute_input": "2024-06-11T15:22:56.881566Z",
     "iopub.status.busy": "2024-06-11T15:22:56.881011Z",
     "iopub.status.idle": "2024-06-11T15:22:56.889995Z"
    }
   },
   "outputs": [
    {
     "data": {
      "text/plain": [
       "['EXT_SOURCE_2',\n",
       " 'EXT_SOURCE_3',\n",
       " 'employment_yrs',\n",
       " 'applicant_age',\n",
       " 'NAME_EDUCATION_TYPE_Secondary / secondary special',\n",
       " 'CODE_GENDER_M',\n",
       " 'NAME_INCOME_TYPE_Working',\n",
       " 'NAME_EDUCATION_TYPE_Higher education',\n",
       " 'phone_change',\n",
       " 'puplish',\n",
       " 'NAME_INCOME_TYPE_Pensioner',\n",
       " 'registeration',\n",
       " 'AMT_ANNUITY',\n",
       " 'ORGANIZATION_TYPE_XNA',\n",
       " 'NAME_CONTRACT_TYPE_Revolving loans',\n",
       " 'OCCUPATION_TYPE_Laborers']"
      ]
     },
     "execution_count": 17,
     "metadata": {},
     "output_type": "execute_result"
    }
   ],
   "source": [
    "# Important Features according to RF are EXT_DOCS {2 and 3} as shown in our analysis (EDA part). We will keep some \n",
    "rf_features = importance.iloc[:16].index.to_list()\n",
    "rf_features"
   ]
  },
  {
   "cell_type": "markdown",
   "metadata": {},
   "source": [
    "**1. Logistic Regression:**\n",
    "\n",
    "We will treat logistic regression as our base model, to see the influence of our models on business KPIs."
   ]
  },
  {
   "cell_type": "code",
   "execution_count": null,
   "metadata": {
    "execution": {
     "iopub.execute_input": "2024-06-11T15:22:56.891501Z",
     "iopub.status.busy": "2024-06-11T15:22:56.891190Z",
     "iopub.status.idle": "2024-06-11T15:22:57.812908Z"
    }
   },
   "outputs": [
    {
     "name": "stdout",
     "output_type": "stream",
     "text": [
      "class_report:\n",
      "               precision    recall  f1-score   support\n",
      "\n",
      "           0       0.92      1.00      0.96     56554\n",
      "           1       0.00      0.00      0.00      4949\n",
      "\n",
      "    accuracy                           0.92     61503\n",
      "   macro avg       0.46      0.50      0.48     61503\n",
      "weighted avg       0.85      0.92      0.88     61503\n",
      "\n"
     ]
    },
    {
     "data": {
      "text/plain": [
       "<sklearn.metrics._plot.confusion_matrix.ConfusionMatrixDisplay at 0x7921d926c0a0>"
      ]
     },
     "execution_count": 18,
     "metadata": {},
     "output_type": "execute_result"
    },
    {
     "data": {
      "image/png": "[encoded data removed]",
      "text/plain": [
       "<Figure size 640x480 with 2 Axes>"
      ]
     },
     "metadata": {},
     "output_type": "display_data"
    }
   ],
   "source": [
    "# Using PCA features:\n",
    "log_reg = LogisticRegression()\n",
    "log_reg.fit(X_train_pca, y_train)\n",
    "\n",
    "# Predict on the test set\n",
    "y_pred_log_1 = log_reg.predict(X_test_pca)\n",
    "# Evaluate the model using a confusion matrix and classification report\n",
    "conf_matrix = confusion_matrix(y_test, y_pred_log_1)\n",
    "class_report = classification_report(y_test, y_pred_log_1)\n",
    "print('class_report:\\n', class_report)\n",
    "\n",
    "ConfusionMatrixDisplay.from_predictions(y_test, y_pred_log_1,\n",
    "                                                    cmap = \"cividis\",\n",
    "                                                    normalize = 'true',\n",
    "                                                    display_labels = (\"Repaid\", \"Default\")\n",
    "                                                  )\n"
   ]
  },
  {
   "cell_type": "code",
   "execution_count": 27,
   "metadata": {
    "execution": {
     "iopub.execute_input": "2024-06-11T16:05:44.215575Z",
     "iopub.status.busy": "2024-06-11T16:05:44.215116Z",
     "iopub.status.idle": "2024-06-11T16:05:44.267611Z",
     "shell.execute_reply": "2024-06-11T16:05:44.266352Z",
     "shell.execute_reply.started": "2024-06-11T16:05:44.215530Z"
    }
   },
   "outputs": [
    {
     "name": "stdout",
     "output_type": "stream",
     "text": [
      "precision:  0.0\n",
      "Recall:  0.0\n"
     ]
    }
   ],
   "source": [
    "# Calculate precision and recall\n",
    "precision = precision_score(y_test, y_pred_log_1)\n",
    "recall = recall_score(y_test, y_pred_log_1)\n",
    "print('precision: ', precision)\n",
    "print('Recall: ', recall)"
   ]
  },
  {
   "cell_type": "code",
   "execution_count": 19,
   "metadata": {
    "execution": {
     "iopub.execute_input": "2024-06-11T15:22:57.814855Z",
     "iopub.status.busy": "2024-06-11T15:22:57.814340Z",
     "iopub.status.idle": "2024-06-11T15:23:00.840378Z",
     "shell.execute_reply": "2024-06-11T15:23:00.839123Z",
     "shell.execute_reply.started": "2024-06-11T15:22:57.814815Z"
    }
   },
   "outputs": [
    {
     "name": "stdout",
     "output_type": "stream",
     "text": [
      "class_report:\n",
      "               precision    recall  f1-score   support\n",
      "\n",
      "           0       0.92      1.00      0.96     56554\n",
      "           1       0.38      0.00      0.01      4949\n",
      "\n",
      "    accuracy                           0.92     61503\n",
      "   macro avg       0.65      0.50      0.48     61503\n",
      "weighted avg       0.88      0.92      0.88     61503\n",
      "\n"
     ]
    },
    {
     "data": {
      "text/plain": [
       "<sklearn.metrics._plot.confusion_matrix.ConfusionMatrixDisplay at 0x7921d91b7f40>"
      ]
     },
     "execution_count": 19,
     "metadata": {},
     "output_type": "execute_result"
    },
    {
     "data": {
      "image/png": "[encoded data removed]",
      "text/plain": [
       "<Figure size 640x480 with 2 Axes>"
      ]
     },
     "metadata": {},
     "output_type": "display_data"
    }
   ],
   "source": [
    "# Using PCA features:\n",
    "log_reg = LogisticRegression()\n",
    "log_reg.fit(X_train_no_trans[rf_features], y_train)\n",
    "\n",
    "# Predict on the test set\n",
    "y_pred_log_2 = log_reg.predict(X_test_no_trans[rf_features])\n",
    "# Evaluate the model using a confusion matrix and classification report\n",
    "conf_matrix = confusion_matrix(y_test, y_pred_log_2)\n",
    "class_report = classification_report(y_test, y_pred_log_2)\n",
    "print('class_report:\\n', class_report)\n",
    "\n",
    "ConfusionMatrixDisplay.from_predictions(y_test, y_pred_log_2,\n",
    "                                                    cmap = \"cividis\",\n",
    "                                                    normalize = 'true',\n",
    "                                                    display_labels = (\"Repaid\", \"Default\")\n",
    "                                                  )"
   ]
  },
  {
   "cell_type": "code",
   "execution_count": 28,
   "metadata": {
    "execution": {
     "iopub.execute_input": "2024-06-11T16:06:13.101227Z",
     "iopub.status.busy": "2024-06-11T16:06:13.100822Z",
     "iopub.status.idle": "2024-06-11T16:06:13.154870Z",
     "shell.execute_reply": "2024-06-11T16:06:13.153619Z",
     "shell.execute_reply.started": "2024-06-11T16:06:13.101196Z"
    }
   },
   "outputs": [
    {
     "name": "stdout",
     "output_type": "stream",
     "text": [
      "precision:  0.38461538461538464\n",
      "Recall:  0.00404122044857547\n"
     ]
    }
   ],
   "source": [
    "# Calculate precision and recall\n",
    "precision = precision_score(y_test, y_pred_log_2)\n",
    "recall = recall_score(y_test, y_pred_log_2)\n",
    "print('precision: ', precision)\n",
    "print('Recall: ', recall)"
   ]
  },
  {
   "cell_type": "markdown",
   "metadata": {},
   "source": [
    "**We see the performance of the model is very poor, we think of using more powerful learning method.**"
   ]
  },
  {
   "cell_type": "markdown",
   "metadata": {},
   "source": [
    "**2. Decision Trees:**"
   ]
  },
  {
   "cell_type": "code",
   "execution_count": 20,
   "metadata": {
    "execution": {
     "iopub.execute_input": "2024-06-11T15:23:00.842302Z",
     "iopub.status.busy": "2024-06-11T15:23:00.841941Z",
     "iopub.status.idle": "2024-06-11T15:23:06.635211Z",
     "shell.execute_reply": "2024-06-11T15:23:06.634015Z",
     "shell.execute_reply.started": "2024-06-11T15:23:00.842273Z"
    }
   },
   "outputs": [
    {
     "name": "stdout",
     "output_type": "stream",
     "text": [
      "class_report:\n",
      "               precision    recall  f1-score   support\n",
      "\n",
      "           0       0.95      0.62      0.75     56554\n",
      "           1       0.12      0.60      0.20      4949\n",
      "\n",
      "    accuracy                           0.62     61503\n",
      "   macro avg       0.53      0.61      0.48     61503\n",
      "weighted avg       0.88      0.62      0.70     61503\n",
      "\n"
     ]
    },
    {
     "data": {
      "text/plain": [
       "<sklearn.metrics._plot.confusion_matrix.ConfusionMatrixDisplay at 0x7921d9144460>"
      ]
     },
     "execution_count": 20,
     "metadata": {},
     "output_type": "execute_result"
    },
    {
     "data": {
      "image/png": "[encoded data removed]",
      "text/plain": [
       "<Figure size 640x480 with 2 Axes>"
      ]
     },
     "metadata": {},
     "output_type": "display_data"
    }
   ],
   "source": [
    "# Train a decision tree classifier\n",
    "decision_tree = DecisionTreeClassifier(max_depth= 10, class_weight = 'balanced')\n",
    "decision_tree.fit(X_train_pca, y_train)\n",
    "\n",
    "# Predict on the test set\n",
    "y_pred_tree1 = decision_tree.predict(X_test_pca)\n",
    "\n",
    "# Evaluate the model using a confusion matrix and classification report\n",
    "conf_matrix = confusion_matrix(y_test, y_pred_tree1)\n",
    "class_report = classification_report(y_test, y_pred_tree1)\n",
    "\n",
    "print('class_report:\\n', class_report)\n",
    "\n",
    "ConfusionMatrixDisplay.from_predictions(y_test, y_pred_tree1,\n",
    "                                                    cmap = \"cividis\",\n",
    "                                                    normalize = 'true',\n",
    "                                                    display_labels = (\"Repaid\", \"Default\")\n",
    "                                                  )"
   ]
  },
  {
   "cell_type": "code",
   "execution_count": 29,
   "metadata": {
    "execution": {
     "iopub.execute_input": "2024-06-11T16:06:35.882573Z",
     "iopub.status.busy": "2024-06-11T16:06:35.882122Z",
     "iopub.status.idle": "2024-06-11T16:06:35.944065Z",
     "shell.execute_reply": "2024-06-11T16:06:35.942621Z",
     "shell.execute_reply.started": "2024-06-11T16:06:35.882536Z"
    }
   },
   "outputs": [
    {
     "name": "stdout",
     "output_type": "stream",
     "text": [
      "precision:  0.12188963551211567\n",
      "Recall:  0.6047686401293191\n"
     ]
    }
   ],
   "source": [
    "# Calculate precision and recall\n",
    "precision = precision_score(y_test, y_pred_tree1)\n",
    "recall = recall_score(y_test, y_pred_tree1)\n",
    "print('precision: ', precision)\n",
    "print('Recall: ', recall)"
   ]
  },
  {
   "cell_type": "code",
   "execution_count": 21,
   "metadata": {
    "execution": {
     "iopub.execute_input": "2024-06-11T15:23:06.636954Z",
     "iopub.status.busy": "2024-06-11T15:23:06.636594Z",
     "iopub.status.idle": "2024-06-11T15:23:09.700333Z",
     "shell.execute_reply": "2024-06-11T15:23:09.699097Z",
     "shell.execute_reply.started": "2024-06-11T15:23:06.636923Z"
    }
   },
   "outputs": [
    {
     "name": "stdout",
     "output_type": "stream",
     "text": [
      "class_report:\n",
      "               precision    recall  f1-score   support\n",
      "\n",
      "           0       0.95      0.70      0.81     56554\n",
      "           1       0.14      0.58      0.23      4949\n",
      "\n",
      "    accuracy                           0.69     61503\n",
      "   macro avg       0.55      0.64      0.52     61503\n",
      "weighted avg       0.88      0.69      0.76     61503\n",
      "\n"
     ]
    },
    {
     "data": {
      "text/plain": [
       "<sklearn.metrics._plot.confusion_matrix.ConfusionMatrixDisplay at 0x7921e2e0f400>"
      ]
     },
     "execution_count": 21,
     "metadata": {},
     "output_type": "execute_result"
    },
    {
     "data": {
      "image/png": "[encoded data removed]",
      "text/plain": [
       "<Figure size 640x480 with 2 Axes>"
      ]
     },
     "metadata": {},
     "output_type": "display_data"
    }
   ],
   "source": [
    "# Train a decision tree classifier\n",
    "decision_tree2 = DecisionTreeClassifier(max_depth= 10, class_weight = 'balanced')\n",
    "decision_tree2.fit(X_train_trans[rf_features], y_train)\n",
    "\n",
    "# Predict on the test set\n",
    "y_pred_tree2 = decision_tree2.predict(X_test_trans[rf_features])\n",
    "\n",
    "# Evaluate the model using a confusion matrix and classification report\n",
    "conf_matrix = confusion_matrix(y_test, y_pred_tree2)\n",
    "class_report = classification_report(y_test, y_pred_tree2)\n",
    "\n",
    "print('class_report:\\n', class_report)\n",
    "\n",
    "ConfusionMatrixDisplay.from_predictions(y_test, y_pred_tree2,\n",
    "                                                    cmap = \"cividis\",\n",
    "                                                    normalize = 'true',\n",
    "                                                    display_labels = (\"Repaid\", \"Default\")\n",
    "                                                  )"
   ]
  },
  {
   "cell_type": "markdown",
   "metadata": {},
   "source": [
    "**As we see, the performance of decision tree is better than simple logistic regression. Now, we can make use of more advanced methods (Ensemble models) like bagging and boosting mechanism to get better performance.**"
   ]
  },
  {
   "cell_type": "markdown",
   "metadata": {},
   "source": [
    "**A. Bagging Method: Random Forest:**"
   ]
  },
  {
   "cell_type": "code",
   "execution_count": 22,
   "metadata": {
    "execution": {
     "iopub.execute_input": "2024-06-11T15:23:09.702303Z",
     "iopub.status.busy": "2024-06-11T15:23:09.701945Z",
     "iopub.status.idle": "2024-06-11T15:25:09.125752Z",
     "shell.execute_reply": "2024-06-11T15:25:09.124536Z",
     "shell.execute_reply.started": "2024-06-11T15:23:09.702274Z"
    }
   },
   "outputs": [
    {
     "name": "stdout",
     "output_type": "stream",
     "text": [
      "Confusion Matrix:\n",
      "[[36211 20343]\n",
      " [ 1880  3069]]\n",
      "\n",
      "Classification Report:\n",
      "              precision    recall  f1-score   support\n",
      "\n",
      "           0       0.95      0.64      0.77     56554\n",
      "           1       0.13      0.62      0.22      4949\n",
      "\n",
      "    accuracy                           0.64     61503\n",
      "   macro avg       0.54      0.63      0.49     61503\n",
      "weighted avg       0.88      0.64      0.72     61503\n",
      "\n"
     ]
    },
    {
     "data": {
      "text/plain": [
       "<sklearn.metrics._plot.confusion_matrix.ConfusionMatrixDisplay at 0x7921d91b7e20>"
      ]
     },
     "execution_count": 22,
     "metadata": {},
     "output_type": "execute_result"
    },
    {
     "data": {
      "image/png": "[encoded data removed]",
      "text/plain": [
       "<Figure size 640x480 with 2 Axes>"
      ]
     },
     "metadata": {},
     "output_type": "display_data"
    }
   ],
   "source": [
    "# Train a Random Forest classifier on features extracted using PCA\n",
    "random_forest = RandomForestClassifier(n_estimators=500, random_state=42,\n",
    "                               criterion=\"gini\",\n",
    "                               max_depth=7,\n",
    "                               min_samples_split=10,\n",
    "                               bootstrap=True,\n",
    "                               max_samples=0.6,\n",
    "                               oob_score=True,\n",
    "                               class_weight = \"balanced\",\n",
    "                               n_jobs=-1)\n",
    "random_forest.fit(X_train_pca, y_train)\n",
    "\n",
    "# Predict on the test set\n",
    "y_pred_forest = random_forest.predict(X_test_pca)\n",
    "\n",
    "# Evaluate the model using a confusion matrix and classification report\n",
    "conf_matrix = confusion_matrix(y_test, y_pred_forest)\n",
    "class_report = classification_report(y_test, y_pred_forest)\n",
    "\n",
    "print(\"Confusion Matrix:\")\n",
    "print(conf_matrix)\n",
    "\n",
    "print(\"\\nClassification Report:\")\n",
    "print(class_report)\n",
    "ConfusionMatrixDisplay.from_predictions(y_test, y_pred_forest,\n",
    "                                                    cmap = \"cividis\",\n",
    "                                                    normalize = 'true',\n",
    "                                                    display_labels = (\"Repaid\", \"Default\")\n",
    "                                                  )"
   ]
  },
  {
   "cell_type": "code",
   "execution_count": 23,
   "metadata": {
    "execution": {
     "iopub.execute_input": "2024-06-11T15:25:09.128190Z",
     "iopub.status.busy": "2024-06-11T15:25:09.127865Z",
     "iopub.status.idle": "2024-06-11T15:26:35.127836Z",
     "shell.execute_reply": "2024-06-11T15:26:35.126415Z",
     "shell.execute_reply.started": "2024-06-11T15:25:09.128163Z"
    }
   },
   "outputs": [
    {
     "name": "stdout",
     "output_type": "stream",
     "text": [
      "Confusion Matrix:\n",
      "[[43280 13274]\n",
      " [ 2148  2801]]\n",
      "\n",
      "Classification Report:\n",
      "              precision    recall  f1-score   support\n",
      "\n",
      "           0       0.95      0.77      0.85     56554\n",
      "           1       0.17      0.57      0.27      4949\n",
      "\n",
      "    accuracy                           0.75     61503\n",
      "   macro avg       0.56      0.67      0.56     61503\n",
      "weighted avg       0.89      0.75      0.80     61503\n",
      "\n"
     ]
    },
    {
     "data": {
      "text/plain": [
       "<sklearn.metrics._plot.confusion_matrix.ConfusionMatrixDisplay at 0x7921d8e1bbb0>"
      ]
     },
     "execution_count": 23,
     "metadata": {},
     "output_type": "execute_result"
    },
    {
     "data": {
      "image/png": "[encoded data removed]",
      "text/plain": [
       "<Figure size 640x480 with 2 Axes>"
      ]
     },
     "metadata": {},
     "output_type": "display_data"
    }
   ],
   "source": [
    "# Train a Random Forest classifier\n",
    "random_forest2 = RandomForestClassifier(n_estimators=500, random_state=42,\n",
    "                               criterion=\"gini\",\n",
    "                               max_depth=10,\n",
    "                               min_samples_split=10,\n",
    "                               bootstrap=True,\n",
    "                               max_samples=0.7,\n",
    "                               oob_score=True,\n",
    "                               class_weight = \"balanced\",\n",
    "                               n_jobs=-1)\n",
    "random_forest2.fit(X_train_trans[rf_features], y_train)\n",
    "\n",
    "# Predict on the test set\n",
    "y_pred_forest = random_forest2.predict(X_test_trans[rf_features])\n",
    "\n",
    "# Evaluate the model using a confusion matrix and classification report\n",
    "conf_matrix = confusion_matrix(y_test, y_pred_forest)\n",
    "class_report = classification_report(y_test, y_pred_forest)\n",
    "\n",
    "print(\"Confusion Matrix:\")\n",
    "print(conf_matrix)\n",
    "\n",
    "print(\"\\nClassification Report:\")\n",
    "print(class_report)\n",
    "ConfusionMatrixDisplay.from_predictions(y_test, y_pred_forest,\n",
    "                                                    cmap = \"cividis\",\n",
    "                                                    normalize = 'true',\n",
    "                                                    display_labels = (\"Repaid\", \"Default\")\n",
    "                                                  )"
   ]
  },
  {
   "cell_type": "markdown",
   "metadata": {},
   "source": [
    "**B. Boosting method: XGBoost:**"
   ]
  },
  {
   "cell_type": "code",
   "execution_count": 24,
   "metadata": {
    "execution": {
     "iopub.execute_input": "2024-06-11T15:26:35.129995Z",
     "iopub.status.busy": "2024-06-11T15:26:35.129604Z",
     "iopub.status.idle": "2024-06-11T15:29:16.348528Z",
     "shell.execute_reply": "2024-06-11T15:29:16.347168Z",
     "shell.execute_reply.started": "2024-06-11T15:26:35.129957Z"
    }
   },
   "outputs": [
    {
     "name": "stdout",
     "output_type": "stream",
     "text": [
      "\n",
      "Classification Report:\n",
      "              precision    recall  f1-score   support\n",
      "\n",
      "           0       0.94      0.80      0.87     56554\n",
      "           1       0.15      0.40      0.22      4949\n",
      "\n",
      "    accuracy                           0.77     61503\n",
      "   macro avg       0.55      0.60      0.54     61503\n",
      "weighted avg       0.88      0.77      0.82     61503\n",
      "\n"
     ]
    },
    {
     "data": {
      "text/plain": [
       "<sklearn.metrics._plot.confusion_matrix.ConfusionMatrixDisplay at 0x7921d94706d0>"
      ]
     },
     "execution_count": 24,
     "metadata": {},
     "output_type": "execute_result"
    },
    {
     "data": {
      "image/png": "[encoded data removed]",
      "text/plain": [
       "<Figure size 640x480 with 2 Axes>"
      ]
     },
     "metadata": {},
     "output_type": "display_data"
    }
   ],
   "source": [
    "# Train an XGBoost classifier\n",
    "params = dict(\n",
    "    base_score = 0.5, booster = 'gbtree', colsample_bylevel = 1,\n",
    "    colsample_bynode = 1, colsample_bytree = 1, gamma = 0,\n",
    "    importance_type = 'gain', interaction_constraints = '',\n",
    "    learning_rate = 0.3, max_delta_step = 0, max_depth = 6,\n",
    "    min_child_weight = 1, missing = np.nan, monotone_constraints = '()',\n",
    "    n_estimators = 500, n_jobs = -1, num_parallel_tree = 1,\n",
    "    random_state = 42, reg_alpha = 0,\n",
    "    reg_lambda = 1, scale_pos_weight = 10, subsample = 1,\n",
    "    tree_method = 'exact', use_label_encoder = False,\n",
    "    validate_parameters = 1, verbosity = None\n",
    ")\n",
    "xgb_classifier = XGBClassifier(**params)\n",
    "xgb_classifier.fit(X_train_pca, y_train)\n",
    "\n",
    "# Predict on the test set\n",
    "y_pred_xgb = xgb_classifier.predict(X_test_pca)\n",
    "\n",
    "# Evaluate the model using a confusion matrix and classification report\n",
    "conf_matrix = confusion_matrix(y_test, y_pred_xgb)\n",
    "class_report = classification_report(y_test, y_pred_xgb)\n",
    "\n",
    "print(\"\\nClassification Report:\")\n",
    "print(class_report)\n",
    "ConfusionMatrixDisplay.from_predictions(y_test, y_pred_xgb,\n",
    "                                                    cmap = \"cividis\",\n",
    "                                                    normalize = 'true',\n",
    "                                                    display_labels = (\"Repaid\", \"Default\")\n",
    "                                                  )"
   ]
  },
  {
   "cell_type": "code",
   "execution_count": 25,
   "metadata": {
    "execution": {
     "iopub.execute_input": "2024-06-11T15:29:16.350997Z",
     "iopub.status.busy": "2024-06-11T15:29:16.350466Z",
     "iopub.status.idle": "2024-06-11T15:30:38.471973Z",
     "shell.execute_reply": "2024-06-11T15:30:38.470758Z",
     "shell.execute_reply.started": "2024-06-11T15:29:16.350953Z"
    }
   },
   "outputs": [
    {
     "name": "stdout",
     "output_type": "stream",
     "text": [
      "\n",
      "Classification Report:\n",
      "              precision    recall  f1-score   support\n",
      "\n",
      "           0       0.94      0.82      0.88     56554\n",
      "           1       0.17      0.42      0.24      4949\n",
      "\n",
      "    accuracy                           0.79     61503\n",
      "   macro avg       0.56      0.62      0.56     61503\n",
      "weighted avg       0.88      0.79      0.83     61503\n",
      "\n"
     ]
    },
    {
     "data": {
      "text/plain": [
       "<sklearn.metrics._plot.confusion_matrix.ConfusionMatrixDisplay at 0x7921d9259000>"
      ]
     },
     "execution_count": 25,
     "metadata": {},
     "output_type": "execute_result"
    },
    {
     "data": {
      "image/png": "[encoded data removed]",
      "text/plain": [
       "<Figure size 640x480 with 2 Axes>"
      ]
     },
     "metadata": {},
     "output_type": "display_data"
    }
   ],
   "source": [
    "# Train an XGBoost classifier\n",
    "# Define the parameters for the model\n",
    "params = dict(\n",
    "    base_score = 0.5, booster = 'gbtree', colsample_bylevel = 1,\n",
    "    colsample_bynode = 1, colsample_bytree = 1, gamma = 0,\n",
    "    importance_type = 'gain', interaction_constraints = '',\n",
    "    learning_rate = 0.3, max_delta_step = 0, max_depth = 6,\n",
    "    min_child_weight = 1, missing = np.nan, monotone_constraints = '()',\n",
    "    n_estimators = 500, n_jobs = -1, num_parallel_tree = 1,\n",
    "    random_state = 42, reg_alpha = 0,\n",
    "    reg_lambda = 1, scale_pos_weight = 10, subsample = 1,\n",
    "    tree_method = 'exact', use_label_encoder = False,\n",
    "    validate_parameters = 1, verbosity = None\n",
    ")\n",
    "xgb_classifier2 = XGBClassifier(**params)\n",
    "xgb_classifier2.fit(X_train_trans[rf_features], y_train)\n",
    "\n",
    "# Predict on the test set\n",
    "y_pred_xgb = xgb_classifier2.predict(X_test_trans[rf_features])\n",
    "\n",
    "# Evaluate the model using a confusion matrix and classification report\n",
    "conf_matrix = confusion_matrix(y_test, y_pred_xgb)\n",
    "class_report = classification_report(y_test, y_pred_xgb)\n",
    "print(\"\\nClassification Report:\")\n",
    "print(class_report)\n",
    "ConfusionMatrixDisplay.from_predictions(y_test, y_pred_xgb,\n",
    "                                                    cmap = \"cividis\",\n",
    "                                                    normalize = 'true',\n",
    "                                                    display_labels = (\"Repaid\", \"Default\")\n",
    "                                                  )"
   ]
  },
  {
   "cell_type": "markdown",
   "metadata": {},
   "source": [
    "**Through different trials with hyperparameters, I see these model can achieve a higher performance. I could automate this search by using grid search or any other technique, but I wanted to keep it simple and avoid wasting more time.**"
   ]
  },
  {
   "cell_type": "markdown",
   "metadata": {},
   "source": [
    "# Business KPIs:\n",
    "\n",
    "**We analyse the performance of these models according to our business KPIs. There can be various KPIs for risk analysis; in this study, we focus more on:**\n",
    "\n",
    "* **Default rate**: We need to decrease the rate of default by being able to predict these applications.\n",
    "\n",
    "* **Approval rate**: We need to increase the approval rate for clients who will repay.\n",
    "\n",
    "**In this scenario, I choose decreasing the default rate to be more critical.**\n",
    "\n",
    "\n",
    "# Evaluation:\n",
    "We will evaluate the model using precision, recall, and F1 score.\n",
    "* The highest f1 score didn't exceed 27% was obtained by random forest model trained on features extracted by another random forest model.\n",
    "* Random forest model trained on PCA components achieved the highest recall 62%, which is more suitable for default rate KPI.\n",
    "* XGboost achieved the highest precision across all versions (15% and 17%), which can be good for the acceptance rate KPI.\n",
    "* Despite the low metrics, these models show an advance in performance against our base model (logistic regression in our case).\n"
   ]
  },
  {
   "cell_type": "code",
   "execution_count": null,
   "metadata": {},
   "outputs": [],
   "source": []
  }
 ],
 "metadata": {
  "kaggle": {
   "accelerator": "none",
   "dataSources": [
    {
     "datasetId": 807638,
     "sourceId": 1383922,
     "sourceType": "datasetVersion"
    }
   ],
   "dockerImageVersionId": 30732,
   "isGpuEnabled": false,
   "isInternetEnabled": true,
   "language": "python",
   "sourceType": "notebook"
  },
  "kernelspec": {
   "display_name": "Python 3 (ipykernel)",
   "language": "python",
   "name": "python3"
  },
  "language_info": {
   "codemirror_mode": {
    "name": "ipython",
    "version": 3
   },
   "file_extension": ".py",
   "mimetype": "text/x-python",
   "name": "python",
   "nbconvert_exporter": "python",
   "pygments_lexer": "ipython3",
   "version": "3.9.13"
  }
 },
 "nbformat": 4,
 "nbformat_minor": 4
}
